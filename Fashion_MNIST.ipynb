{
  "nbformat": 4,
  "nbformat_minor": 0,
  "metadata": {
    "colab": {
      "provenance": [],
      "gpuType": "T4"
    },
    "kernelspec": {
      "name": "python3",
      "display_name": "Python 3"
    },
    "language_info": {
      "name": "python"
    },
    "accelerator": "GPU"
  },
  "cells": [
    {
      "cell_type": "code",
      "source": [
        "from fastai.vision.all import *\n",
        "import torch\n",
        "import matplotlib.pyplot as plt\n",
        "from torchvision import datasets, transforms"
      ],
      "metadata": {
        "id": "ILIhIVEOvdrp"
      },
      "execution_count": 3,
      "outputs": []
    },
    {
      "cell_type": "markdown",
      "source": [
        "If the GPU is available use it for the computation otherwise use the CPU."
      ],
      "metadata": {
        "id": "DyYwZ_OGe3NE"
      }
    },
    {
      "cell_type": "code",
      "source": [
        "device = torch.device(\"cuda:0\" if torch.cuda.is_available() else \"cpu\")\n",
        "device"
      ],
      "metadata": {
        "id": "bMh0L6ltexMH",
        "colab": {
          "base_uri": "https://localhost:8080/"
        },
        "outputId": "ad15ec86-081e-47b8-804a-0f24a43f6a56"
      },
      "execution_count": 4,
      "outputs": [
        {
          "output_type": "execute_result",
          "data": {
            "text/plain": [
              "device(type='cuda', index=0)"
            ]
          },
          "metadata": {},
          "execution_count": 4
        }
      ]
    },
    {
      "cell_type": "markdown",
      "source": [
        "## Fashion MNIST\n",
        "\n",
        "The Fashion MNIST dataset contains thousands of grayscale images of different types of clothes. There are ten distinct categories encoded into numbers 0 - 10:\n",
        "\n",
        "0   T-shirt/top\n",
        "\n",
        "1\tTrouser\n",
        "\n",
        "2\tPullover\n",
        "\n",
        "3\tDress\n",
        "\n",
        "4\tCoat\n",
        "\n",
        "5\tSandal\n",
        "\n",
        "6\tShirt\n",
        "\n",
        "7\tSneaker\n",
        "\n",
        "8\tBag\n",
        "\n",
        "9\tAnkle boot"
      ],
      "metadata": {
        "id": "0D_mzjVbwWas"
      }
    },
    {
      "cell_type": "markdown",
      "source": [
        "Download the dataset"
      ],
      "metadata": {
        "id": "vyFWnSrWwL4Z"
      }
    },
    {
      "cell_type": "code",
      "source": [
        "train_set = datasets.FashionMNIST(\"./data\", download=True, train=True, transform=transforms.Compose([transforms.ToTensor(), torch.flatten]))\n",
        "test_set = datasets.FashionMNIST(\"./data\", download=True, train=False, transform=transforms.Compose([transforms.ToTensor(), torch.flatten]))"
      ],
      "metadata": {
        "id": "dlIxrYjiuZ34",
        "colab": {
          "base_uri": "https://localhost:8080/"
        },
        "outputId": "64f73881-c0f6-43f0-d655-ac7438ab942f"
      },
      "execution_count": 5,
      "outputs": [
        {
          "output_type": "stream",
          "name": "stdout",
          "text": [
            "Downloading http://fashion-mnist.s3-website.eu-central-1.amazonaws.com/train-images-idx3-ubyte.gz\n",
            "Downloading http://fashion-mnist.s3-website.eu-central-1.amazonaws.com/train-images-idx3-ubyte.gz to ./data/FashionMNIST/raw/train-images-idx3-ubyte.gz\n"
          ]
        },
        {
          "output_type": "stream",
          "name": "stderr",
          "text": [
            "100%|██████████| 26421880/26421880 [00:03<00:00, 7974579.89it/s] \n"
          ]
        },
        {
          "output_type": "stream",
          "name": "stdout",
          "text": [
            "Extracting ./data/FashionMNIST/raw/train-images-idx3-ubyte.gz to ./data/FashionMNIST/raw\n",
            "\n",
            "Downloading http://fashion-mnist.s3-website.eu-central-1.amazonaws.com/train-labels-idx1-ubyte.gz\n",
            "Downloading http://fashion-mnist.s3-website.eu-central-1.amazonaws.com/train-labels-idx1-ubyte.gz to ./data/FashionMNIST/raw/train-labels-idx1-ubyte.gz\n"
          ]
        },
        {
          "output_type": "stream",
          "name": "stderr",
          "text": [
            "100%|██████████| 29515/29515 [00:00<00:00, 135002.52it/s]\n"
          ]
        },
        {
          "output_type": "stream",
          "name": "stdout",
          "text": [
            "Extracting ./data/FashionMNIST/raw/train-labels-idx1-ubyte.gz to ./data/FashionMNIST/raw\n",
            "\n",
            "Downloading http://fashion-mnist.s3-website.eu-central-1.amazonaws.com/t10k-images-idx3-ubyte.gz\n",
            "Downloading http://fashion-mnist.s3-website.eu-central-1.amazonaws.com/t10k-images-idx3-ubyte.gz to ./data/FashionMNIST/raw/t10k-images-idx3-ubyte.gz\n"
          ]
        },
        {
          "output_type": "stream",
          "name": "stderr",
          "text": [
            "100%|██████████| 4422102/4422102 [00:01<00:00, 2512678.12it/s]\n"
          ]
        },
        {
          "output_type": "stream",
          "name": "stdout",
          "text": [
            "Extracting ./data/FashionMNIST/raw/t10k-images-idx3-ubyte.gz to ./data/FashionMNIST/raw\n",
            "\n",
            "Downloading http://fashion-mnist.s3-website.eu-central-1.amazonaws.com/t10k-labels-idx1-ubyte.gz\n",
            "Downloading http://fashion-mnist.s3-website.eu-central-1.amazonaws.com/t10k-labels-idx1-ubyte.gz to ./data/FashionMNIST/raw/t10k-labels-idx1-ubyte.gz\n"
          ]
        },
        {
          "output_type": "stream",
          "name": "stderr",
          "text": [
            "100%|██████████| 5148/5148 [00:00<00:00, 6165698.74it/s]"
          ]
        },
        {
          "output_type": "stream",
          "name": "stdout",
          "text": [
            "Extracting ./data/FashionMNIST/raw/t10k-labels-idx1-ubyte.gz to ./data/FashionMNIST/raw\n",
            "\n"
          ]
        },
        {
          "output_type": "stream",
          "name": "stderr",
          "text": [
            "\n"
          ]
        }
      ]
    },
    {
      "cell_type": "markdown",
      "source": [
        "We are going to feed the dataset into our network in batches of size 128 as the dataset is too big to be used all at once."
      ],
      "metadata": {
        "id": "klk3aXlp1Ha3"
      }
    },
    {
      "cell_type": "code",
      "source": [
        "data_loader = DataLoaders.from_dsets(train_set, test_set, bs=128)"
      ],
      "metadata": {
        "id": "bcqfZoPQveqg"
      },
      "execution_count": 6,
      "outputs": []
    },
    {
      "cell_type": "markdown",
      "source": [
        "Let's check the mini batch you'll get from the train data loader:"
      ],
      "metadata": {
        "id": "l9ChS34J1Y2l"
      }
    },
    {
      "cell_type": "code",
      "source": [
        "x, y = next(iter(data_loader.train))\n",
        "x.size(), y.size()"
      ],
      "metadata": {
        "id": "YGw_09jQ0XlM",
        "colab": {
          "base_uri": "https://localhost:8080/"
        },
        "outputId": "f58290a9-7474-4e13-9bc2-f1bc45b04cf1"
      },
      "execution_count": 7,
      "outputs": [
        {
          "output_type": "execute_result",
          "data": {
            "text/plain": [
              "(torch.Size([128, 784]), torch.Size([128]))"
            ]
          },
          "metadata": {},
          "execution_count": 7
        }
      ]
    },
    {
      "cell_type": "code",
      "source": [
        "len(train_set)"
      ],
      "metadata": {
        "id": "P8cWcL0bwP3k",
        "colab": {
          "base_uri": "https://localhost:8080/"
        },
        "outputId": "2c9d566e-8ce9-4727-a084-8938009f89e4"
      },
      "execution_count": 8,
      "outputs": [
        {
          "output_type": "execute_result",
          "data": {
            "text/plain": [
              "60000"
            ]
          },
          "metadata": {},
          "execution_count": 8
        }
      ]
    },
    {
      "cell_type": "code",
      "source": [
        "len(test_set)"
      ],
      "metadata": {
        "id": "M6XnjvAnwiqv",
        "colab": {
          "base_uri": "https://localhost:8080/"
        },
        "outputId": "99a2e92c-0acd-43af-db48-33db6727d963"
      },
      "execution_count": 9,
      "outputs": [
        {
          "output_type": "execute_result",
          "data": {
            "text/plain": [
              "10000"
            ]
          },
          "metadata": {},
          "execution_count": 9
        }
      ]
    },
    {
      "cell_type": "code",
      "source": [
        "train_set[0][0].size()"
      ],
      "metadata": {
        "id": "e5peZemYyDOS",
        "colab": {
          "base_uri": "https://localhost:8080/"
        },
        "outputId": "d3c01b24-652f-4fe3-e647-9c8628a0b0ea"
      },
      "execution_count": 10,
      "outputs": [
        {
          "output_type": "execute_result",
          "data": {
            "text/plain": [
              "torch.Size([784])"
            ]
          },
          "metadata": {},
          "execution_count": 10
        }
      ]
    },
    {
      "cell_type": "code",
      "source": [
        "clothes_labels = ['T-shirt/top', 'Trouser', 'Pullover', 'Dress', 'Coat',\n",
        "                  'Sandal', 'Shirt', 'Sneaker', 'Bag', 'Ankle boot']"
      ],
      "metadata": {
        "id": "idxwfOFFxG-j"
      },
      "execution_count": 11,
      "outputs": []
    },
    {
      "cell_type": "markdown",
      "source": [
        "Let's plot some images from our dataset"
      ],
      "metadata": {
        "id": "4PUD1U1ixLqI"
      }
    },
    {
      "cell_type": "code",
      "source": [
        "def plot_image(x, title = \"\"):\n",
        "  plt.xticks([])\n",
        "  plt.yticks([])\n",
        "  plt.grid(False)\n",
        "  plt.imshow(torch.reshape(x, (28,28)), cmap=plt.cm.binary)\n",
        "  plt.xlabel(title)\n",
        "\n",
        "plt.figure(figsize=(8,8))\n",
        "for i in range(0, 160, 10):\n",
        "  plt.subplot(4, 4, i // 10 + 1)\n",
        "  plot_image(train_set[i][0], clothes_labels[train_set[i][1]])"
      ],
      "metadata": {
        "id": "hjdCMRa1xIpd",
        "colab": {
          "base_uri": "https://localhost:8080/",
          "height": 672
        },
        "outputId": "1d210fed-2b62-429d-97d0-5a478681395b"
      },
      "execution_count": 12,
      "outputs": [
        {
          "output_type": "display_data",
          "data": {
            "text/plain": [
              "<Figure size 800x800 with 16 Axes>"
            ],
            "image/png": "[encoded data removed]"
          },
          "metadata": {}
        }
      ]
    },
    {
      "cell_type": "markdown",
      "source": [
        "# Dense NN\n",
        "\n",
        "Let's try to apply dense neural network (we talked about it in the previous lesson) to our images.\n",
        "\n",
        "All layers are Linear - the classic fully-connected neural network layers.\n",
        "\n",
        "- The hidden layers will have 128 and 64 units and use the ReLU activation function.\n",
        "- The output layer will have 10 units, corresponding to the 10 classes, and use softmax function.\n",
        "\n",
        "The general convention for Pytorch network classes is that you create all your layers in the constructor, and then lay out their relationship in the `forward()` method."
      ],
      "metadata": {
        "id": "JT3fTLXYzjrQ"
      }
    },
    {
      "cell_type": "code",
      "source": [
        "class Net(nn.Module):\n",
        "    def __init__(self, image_size):\n",
        "        super(Net, self).__init__()\n",
        "        self.fc1 = nn.Linear(image_size, 128) # TODO nn.Linear(n_input_neurons, n_output_neurons)\n",
        "        self.fc2 = nn.Linear(128, 64) # TODO\n",
        "        self.fc3 = nn.Linear(64, 10) # TODO\n",
        "\n",
        "    def forward(self, x):\n",
        "        x = F.relu(self.fc1(x))\n",
        "        x = F.relu(self.fc2(x))\n",
        "        x = F.softmax(self.fc3(x), dim=1)\n",
        "        return x"
      ],
      "metadata": {
        "id": "ixthf2UXx6Vs"
      },
      "execution_count": 13,
      "outputs": []
    },
    {
      "cell_type": "code",
      "source": [
        "model = Net(image_size=28*28) # TODO\n",
        "model.to(device)\n",
        "model"
      ],
      "metadata": {
        "id": "zYPEUmEE7cU6",
        "colab": {
          "base_uri": "https://localhost:8080/"
        },
        "outputId": "ee2653c5-80e8-48db-c92f-a5affbd99751"
      },
      "execution_count": 14,
      "outputs": [
        {
          "output_type": "execute_result",
          "data": {
            "text/plain": [
              "Net(\n",
              "  (fc1): Linear(in_features=784, out_features=128, bias=True)\n",
              "  (fc2): Linear(in_features=128, out_features=64, bias=True)\n",
              "  (fc3): Linear(in_features=64, out_features=10, bias=True)\n",
              ")"
            ]
          },
          "metadata": {},
          "execution_count": 14
        }
      ]
    },
    {
      "cell_type": "markdown",
      "source": [
        "## Training"
      ],
      "metadata": {
        "id": "HABTozDe7lp-"
      }
    },
    {
      "cell_type": "code",
      "source": [
        "# learning rate\n",
        "lr = 5e-4\n",
        "# loss function\n",
        "loss_func = nn.CrossEntropyLoss()"
      ],
      "metadata": {
        "id": "AJolB7Bs7oMG"
      },
      "execution_count": 15,
      "outputs": []
    },
    {
      "cell_type": "markdown",
      "source": [
        "Rather then setting up the model optimization in Pytorch, we are going to use fastai's Learner object. (By default, it uses the Adam optimizer.)"
      ],
      "metadata": {
        "id": "Gj7nVMhn7v2j"
      }
    },
    {
      "cell_type": "code",
      "source": [
        "learn = Learner(data_loader, model, loss_func=loss_func, metrics=accuracy)"
      ],
      "metadata": {
        "id": "bH5iSuCz7wj1"
      },
      "execution_count": 16,
      "outputs": []
    },
    {
      "cell_type": "code",
      "source": [
        "learn.fit(n_epoch=3, lr=lr)"
      ],
      "metadata": {
        "id": "5y9HyJAb8ZKF",
        "colab": {
          "base_uri": "https://localhost:8080/",
          "height": 143
        },
        "outputId": "c69c5433-20a4-42b8-fb03-811373209544"
      },
      "execution_count": 17,
      "outputs": [
        {
          "output_type": "display_data",
          "data": {
            "text/plain": [
              "<IPython.core.display.HTML object>"
            ],
            "text/html": [
              "\n",
              "<style>\n",
              "    /* Turns off some styling */\n",
              "    progress {\n",
              "        /* gets rid of default border in Firefox and Opera. */\n",
              "        border: none;\n",
              "        /* Needs to be in here for Safari polyfill so background images work as expected. */\n",
              "        background-size: auto;\n",
              "    }\n",
              "    progress:not([value]), progress:not([value])::-webkit-progress-bar {\n",
              "        background: repeating-linear-gradient(45deg, #7e7e7e, #7e7e7e 10px, #5c5c5c 10px, #5c5c5c 20px);\n",
              "    }\n",
              "    .progress-bar-interrupted, .progress-bar-interrupted::-webkit-progress-bar {\n",
              "        background: #F44336;\n",
              "    }\n",
              "</style>\n"
            ]
          },
          "metadata": {}
        },
        {
          "output_type": "display_data",
          "data": {
            "text/plain": [
              "<IPython.core.display.HTML object>"
            ],
            "text/html": [
              "<table border=\"1\" class=\"dataframe\">\n",
              "  <thead>\n",
              "    <tr style=\"text-align: left;\">\n",
              "      <th>epoch</th>\n",
              "      <th>train_loss</th>\n",
              "      <th>valid_loss</th>\n",
              "      <th>accuracy</th>\n",
              "      <th>time</th>\n",
              "    </tr>\n",
              "  </thead>\n",
              "  <tbody>\n",
              "    <tr>\n",
              "      <td>0</td>\n",
              "      <td>1.718674</td>\n",
              "      <td>1.715289</td>\n",
              "      <td>0.758100</td>\n",
              "      <td>00:17</td>\n",
              "    </tr>\n",
              "    <tr>\n",
              "      <td>1</td>\n",
              "      <td>1.686041</td>\n",
              "      <td>1.697875</td>\n",
              "      <td>0.767900</td>\n",
              "      <td>00:12</td>\n",
              "    </tr>\n",
              "    <tr>\n",
              "      <td>2</td>\n",
              "      <td>1.678559</td>\n",
              "      <td>1.685012</td>\n",
              "      <td>0.780100</td>\n",
              "      <td>00:12</td>\n",
              "    </tr>\n",
              "  </tbody>\n",
              "</table>"
            ]
          },
          "metadata": {}
        }
      ]
    },
    {
      "cell_type": "code",
      "source": [
        "learn.recorder.plot_loss()"
      ],
      "metadata": {
        "id": "Q27CRjguE7Ak",
        "colab": {
          "base_uri": "https://localhost:8080/",
          "height": 430
        },
        "outputId": "34d38998-7695-4f70-f895-bd45cac141af"
      },
      "execution_count": 18,
      "outputs": [
        {
          "output_type": "display_data",
          "data": {
            "text/plain": [
              "<Figure size 640x480 with 1 Axes>"
            ],
            "image/png": "[encoded data removed]"
          },
          "metadata": {}
        }
      ]
    },
    {
      "cell_type": "markdown",
      "source": [
        "\n",
        "\n",
        "---\n",
        "\n"
      ],
      "metadata": {
        "id": "wUmF0hqhFbNG"
      }
    },
    {
      "cell_type": "markdown",
      "source": [
        "# CNN\n",
        "\n",
        "Let's try a different architecture, this time a Convolutional Neural Network"
      ],
      "metadata": {
        "id": "ZLP4gr7IFc0G"
      }
    },
    {
      "cell_type": "markdown",
      "source": [
        "Load data in different format"
      ],
      "metadata": {
        "id": "rtEiE0HeRNCX"
      }
    },
    {
      "cell_type": "code",
      "source": [
        "train_set = datasets.FashionMNIST(\"./data\", download=True, train=True, transform=transforms.Compose([transforms.ToTensor()]))\n",
        "test_set = datasets.FashionMNIST(\"./data\", download=True, train=False, transform=transforms.Compose([transforms.ToTensor()]))\n",
        "\n",
        "data_loader = DataLoaders.from_dsets(train_set, test_set, bs=128)"
      ],
      "metadata": {
        "id": "uPHvqSo1RJUF"
      },
      "execution_count": 19,
      "outputs": []
    },
    {
      "cell_type": "code",
      "source": [
        "class CNN(nn.Module):\n",
        "    def __init__(self):\n",
        "        super(CNN, self).__init__()\n",
        "        self.conv1 = nn.Conv2d(in_channels=1, out_channels=32, kernel_size=3)\n",
        "        self.conv2 = nn.Conv2d(in_channels=32, out_channels=64, kernel_size=3)\n",
        "        self.flat = nn.Flatten()\n",
        "        self.fc1 = nn.Linear(in_features=24*24*64, out_features=128)\n",
        "        self.fc2 = nn.Linear(in_features=128, out_features=128)\n",
        "        self.fc3 = nn.Linear(in_features=128, out_features=128)\n",
        "        self.drop = nn.Dropout(0.25)\n",
        "        self.fc4 = nn.Linear(in_features=128, out_features=64)\n",
        "        self.fc5 = nn.Linear(in_features=64, out_features=64)\n",
        "        self.fc6 = nn.Linear(in_features=64, out_features=10)\n",
        "\n",
        "    def forward(self, x):\n",
        "        x = F.relu(self.conv1(x))\n",
        "        x = F.relu(self.conv2(x))\n",
        "        x = self.flat(x)\n",
        "        x = F.relu(self.fc1(x))\n",
        "        x = F.relu(self.fc2(x))\n",
        "        x = F.relu(self.fc3(x))\n",
        "        x = self.drop(x)\n",
        "        x = F.relu(self.fc4(x))\n",
        "        x = F.relu(self.fc5(x))\n",
        "        x = F.softmax(self.fc6(x), dim=1)\n",
        "        return x"
      ],
      "metadata": {
        "id": "8vpdNOICOLIL"
      },
      "execution_count": 73,
      "outputs": []
    },
    {
      "cell_type": "code",
      "source": [
        "model = CNN()\n",
        "model.to(device)\n",
        "model"
      ],
      "metadata": {
        "id": "FLJBGqJIReBc",
        "colab": {
          "base_uri": "https://localhost:8080/"
        },
        "outputId": "851a1f78-617d-4f6f-905e-dbccecdffd91"
      },
      "execution_count": 74,
      "outputs": [
        {
          "output_type": "execute_result",
          "data": {
            "text/plain": [
              "CNN(\n",
              "  (conv1): Conv2d(1, 32, kernel_size=(3, 3), stride=(1, 1))\n",
              "  (conv2): Conv2d(32, 64, kernel_size=(3, 3), stride=(1, 1))\n",
              "  (flat): Flatten(start_dim=1, end_dim=-1)\n",
              "  (fc1): Linear(in_features=36864, out_features=128, bias=True)\n",
              "  (fc2): Linear(in_features=128, out_features=128, bias=True)\n",
              "  (fc3): Linear(in_features=128, out_features=128, bias=True)\n",
              "  (drop): Dropout(p=0.25, inplace=False)\n",
              "  (fc4): Linear(in_features=128, out_features=64, bias=True)\n",
              "  (fc5): Linear(in_features=64, out_features=64, bias=True)\n",
              "  (fc6): Linear(in_features=64, out_features=10, bias=True)\n",
              ")"
            ]
          },
          "metadata": {},
          "execution_count": 74
        }
      ]
    },
    {
      "cell_type": "markdown",
      "source": [
        "### Training"
      ],
      "metadata": {
        "id": "w8_NGUYQReBf"
      }
    },
    {
      "cell_type": "code",
      "source": [
        "# learning rate\n",
        "lr = 5e-4\n",
        "# loss function\n",
        "loss_func = nn.CrossEntropyLoss()"
      ],
      "metadata": {
        "id": "smzM33E7ReBg"
      },
      "execution_count": 75,
      "outputs": []
    },
    {
      "cell_type": "markdown",
      "source": [
        "Rather then setting up the model optimization in Pytorch, we are going to use fastai's Learner object. (By default, it uses the Adam optimizer.)"
      ],
      "metadata": {
        "id": "0ClEGE9hReBh"
      }
    },
    {
      "cell_type": "code",
      "source": [
        "learn = Learner(data_loader, model, loss_func=loss_func, metrics=accuracy)"
      ],
      "metadata": {
        "id": "VW014wMWReBi"
      },
      "execution_count": 76,
      "outputs": []
    },
    {
      "cell_type": "code",
      "source": [
        "learn.fit(5, lr)"
      ],
      "metadata": {
        "id": "S7dlfhdZReCC",
        "colab": {
          "base_uri": "https://localhost:8080/",
          "height": 206
        },
        "outputId": "56f07c4b-dbd2-4b22-a937-bd9ed5721aa9"
      },
      "execution_count": 77,
      "outputs": [
        {
          "output_type": "display_data",
          "data": {
            "text/plain": [
              "<IPython.core.display.HTML object>"
            ],
            "text/html": [
              "\n",
              "<style>\n",
              "    /* Turns off some styling */\n",
              "    progress {\n",
              "        /* gets rid of default border in Firefox and Opera. */\n",
              "        border: none;\n",
              "        /* Needs to be in here for Safari polyfill so background images work as expected. */\n",
              "        background-size: auto;\n",
              "    }\n",
              "    progress:not([value]), progress:not([value])::-webkit-progress-bar {\n",
              "        background: repeating-linear-gradient(45deg, #7e7e7e, #7e7e7e 10px, #5c5c5c 10px, #5c5c5c 20px);\n",
              "    }\n",
              "    .progress-bar-interrupted, .progress-bar-interrupted::-webkit-progress-bar {\n",
              "        background: #F44336;\n",
              "    }\n",
              "</style>\n"
            ]
          },
          "metadata": {}
        },
        {
          "output_type": "display_data",
          "data": {
            "text/plain": [
              "<IPython.core.display.HTML object>"
            ],
            "text/html": [
              "<table border=\"1\" class=\"dataframe\">\n",
              "  <thead>\n",
              "    <tr style=\"text-align: left;\">\n",
              "      <th>epoch</th>\n",
              "      <th>train_loss</th>\n",
              "      <th>valid_loss</th>\n",
              "      <th>accuracy</th>\n",
              "      <th>time</th>\n",
              "    </tr>\n",
              "  </thead>\n",
              "  <tbody>\n",
              "    <tr>\n",
              "      <td>0</td>\n",
              "      <td>1.717415</td>\n",
              "      <td>1.698081</td>\n",
              "      <td>0.763400</td>\n",
              "      <td>00:14</td>\n",
              "    </tr>\n",
              "    <tr>\n",
              "      <td>1</td>\n",
              "      <td>1.655113</td>\n",
              "      <td>1.662508</td>\n",
              "      <td>0.797900</td>\n",
              "      <td>00:14</td>\n",
              "    </tr>\n",
              "    <tr>\n",
              "      <td>2</td>\n",
              "      <td>1.646753</td>\n",
              "      <td>1.642654</td>\n",
              "      <td>0.818200</td>\n",
              "      <td>00:14</td>\n",
              "    </tr>\n",
              "    <tr>\n",
              "      <td>3</td>\n",
              "      <td>1.597046</td>\n",
              "      <td>1.596920</td>\n",
              "      <td>0.864400</td>\n",
              "      <td>00:14</td>\n",
              "    </tr>\n",
              "    <tr>\n",
              "      <td>4</td>\n",
              "      <td>1.587552</td>\n",
              "      <td>1.589275</td>\n",
              "      <td>0.871700</td>\n",
              "      <td>00:14</td>\n",
              "    </tr>\n",
              "  </tbody>\n",
              "</table>"
            ]
          },
          "metadata": {}
        }
      ]
    },
    {
      "cell_type": "code",
      "source": [
        "learn.recorder.plot_loss()"
      ],
      "metadata": {
        "id": "1L9_l2iBReCE",
        "colab": {
          "base_uri": "https://localhost:8080/",
          "height": 430
        },
        "outputId": "1190de6a-e0ff-41af-b3ec-9fbd8d8ed851"
      },
      "execution_count": 78,
      "outputs": [
        {
          "output_type": "display_data",
          "data": {
            "text/plain": [
              "<Figure size 640x480 with 1 Axes>"
            ],
            "image/png": "[encoded data removed]"
          },
          "metadata": {}
        }
      ]
    },
    {
      "cell_type": "code",
      "source": [
        "plot_image(test_set[1][0])"
      ],
      "metadata": {
        "id": "GGGre2bjVYqj",
        "colab": {
          "base_uri": "https://localhost:8080/",
          "height": 406
        },
        "outputId": "6866f0a9-2fdb-4177-e322-571162ec04d6"
      },
      "execution_count": 79,
      "outputs": [
        {
          "output_type": "display_data",
          "data": {
            "text/plain": [
              "<Figure size 640x480 with 1 Axes>"
            ],
            "image/png": "[encoded data removed]"
          },
          "metadata": {}
        }
      ]
    },
    {
      "cell_type": "code",
      "source": [
        "clothes_labels[torch.argmax(learn.predict(test_set[1])[0])]"
      ],
      "metadata": {
        "id": "FyLoF13USJmB",
        "colab": {
          "base_uri": "https://localhost:8080/",
          "height": 36
        },
        "outputId": "8a51f8b4-3bc0-4777-8c66-278718627597"
      },
      "execution_count": 80,
      "outputs": [
        {
          "output_type": "display_data",
          "data": {
            "text/plain": [
              "<IPython.core.display.HTML object>"
            ],
            "text/html": [
              "\n",
              "<style>\n",
              "    /* Turns off some styling */\n",
              "    progress {\n",
              "        /* gets rid of default border in Firefox and Opera. */\n",
              "        border: none;\n",
              "        /* Needs to be in here for Safari polyfill so background images work as expected. */\n",
              "        background-size: auto;\n",
              "    }\n",
              "    progress:not([value]), progress:not([value])::-webkit-progress-bar {\n",
              "        background: repeating-linear-gradient(45deg, #7e7e7e, #7e7e7e 10px, #5c5c5c 10px, #5c5c5c 20px);\n",
              "    }\n",
              "    .progress-bar-interrupted, .progress-bar-interrupted::-webkit-progress-bar {\n",
              "        background: #F44336;\n",
              "    }\n",
              "</style>\n"
            ]
          },
          "metadata": {}
        },
        {
          "output_type": "display_data",
          "data": {
            "text/plain": [
              "<IPython.core.display.HTML object>"
            ],
            "text/html": []
          },
          "metadata": {}
        },
        {
          "output_type": "execute_result",
          "data": {
            "text/plain": [
              "'Pullover'"
            ],
            "application/vnd.google.colaboratory.intrinsic+json": {
              "type": "string"
            }
          },
          "metadata": {},
          "execution_count": 80
        }
      ]
    },
    {
      "cell_type": "code",
      "source": [
        "save_path = 'model_weights.pth'\n",
        "torch.save(model.state_dict(), save_path)\n",
        "model.load_state_dict(torch.load('model_weights.pth'))\n",
        "model.eval()\n"
      ],
      "metadata": {
        "colab": {
          "base_uri": "https://localhost:8080/"
        },
        "id": "GtsiRVZ6rj94",
        "outputId": "e3b5f020-fe52-4c23-9850-b98694766440"
      },
      "execution_count": 85,
      "outputs": [
        {
          "output_type": "execute_result",
          "data": {
            "text/plain": [
              "CNN(\n",
              "  (conv1): Conv2d(1, 32, kernel_size=(3, 3), stride=(1, 1))\n",
              "  (conv2): Conv2d(32, 64, kernel_size=(3, 3), stride=(1, 1))\n",
              "  (flat): Flatten(start_dim=1, end_dim=-1)\n",
              "  (fc1): Linear(in_features=36864, out_features=128, bias=True)\n",
              "  (fc2): Linear(in_features=128, out_features=128, bias=True)\n",
              "  (fc3): Linear(in_features=128, out_features=128, bias=True)\n",
              "  (drop): Dropout(p=0.25, inplace=False)\n",
              "  (fc4): Linear(in_features=128, out_features=64, bias=True)\n",
              "  (fc5): Linear(in_features=64, out_features=64, bias=True)\n",
              "  (fc6): Linear(in_features=64, out_features=10, bias=True)\n",
              ")"
            ]
          },
          "metadata": {},
          "execution_count": 85
        }
      ]
    },
    {
      "cell_type": "code",
      "source": [
        "all_predicted_labels = []\n",
        "all_actual_labels = []\n",
        "\n",
        "with torch.no_grad():\n",
        "    for inputs, labels in data_loader.valid:\n",
        "        inputs = inputs.to(device)\n",
        "        outputs = model(inputs)\n",
        "        _, predicted = torch.max(outputs, 1)\n",
        "        all_predicted_labels.extend(predicted.cpu().numpy())\n",
        "        all_actual_labels.extend(labels.cpu().numpy())\n"
      ],
      "metadata": {
        "id": "eu99CKAqtcDu"
      },
      "execution_count": 91,
      "outputs": []
    },
    {
      "cell_type": "code",
      "source": [
        "#We sort of cheat our way through this by using some scikit-learn magic\n",
        "\n",
        "cm = confusion_matrix(all_actual_labels, all_predicted_labels)\n",
        "disp = ConfusionMatrixDisplay(confusion_matrix=cm, display_labels=clothes_labels)\n",
        "disp.plot(cmap=plt.cm.Blues, values_format='.4g')\n",
        "plt.xlabel('Predicted')\n",
        "plt.ylabel('Actual')\n",
        "plt.title('Confusion Matrix')\n",
        "plt.show()\n"
      ],
      "metadata": {
        "colab": {
          "base_uri": "https://localhost:8080/",
          "height": 472
        },
        "id": "-d9j_0HhuzgG",
        "outputId": "8e84315a-74bb-4944-f8b8-a7b31fbbd437"
      },
      "execution_count": 93,
      "outputs": [
        {
          "output_type": "display_data",
          "data": {
            "text/plain": [
              "<Figure size 640x480 with 2 Axes>"
            ],
            "image/png": "[encoded data removed]"
          },
          "metadata": {}
        }
      ]
    }
  ]
}